{
 "cells": [
  {
   "cell_type": "code",
   "execution_count": 1,
   "metadata": {},
   "outputs": [],
   "source": [
    "# Reference https://www.anyscale.com/blog/writing-your-first-distributed-python-application-with-ray, where you could find dataset hyperlink.\n",
    "# For this tutorial, you only need to download the files for 1980 and 2020.\n",
    "\n",
    "\n",
    "from collections import namedtuple\n",
    "import csv\n",
    "import tarfile\n",
    "import time\n",
    "from datetime import datetime\n",
    "\n",
    "import ray\n",
    "\n",
    "@ray.remote\n",
    "class GSODActor():\n",
    "\n",
    "    def __init__(self, year, high_temp):\n",
    "        self.high_temp = float(high_temp)\n",
    "        self.high_temp_count = None\n",
    "        self.rows = []\n",
    "        self.stations = None\n",
    "        self.year = year\n",
    "\n",
    "    def get_row_count(self):\n",
    "        return len(self.rows)\n",
    "\n",
    "    def get_high_temp_count(self):\n",
    "        if self.high_temp_count is None:\n",
    "            filtered = [l for l in self.rows if float(l.TEMP) >= self.high_temp]\n",
    "            self.high_temp_count = len(filtered)\n",
    "        return self.high_temp_count\n",
    "\n",
    "    def get_station_count(self):\n",
    "        print(f\"{datetime.now()} get station count\")\n",
    "        return len(self.stations)\n",
    "\n",
    "    def get_stations(self):\n",
    "        print(f\"{datetime.now()} get stations\")\n",
    "        return self.stations\n",
    "\n",
    "    def get_high_temp_count(self, stations):\n",
    "        print(f'{datetime.now()} get high temp count')\n",
    "        filtered_rows = [l for l in self.rows if float(l.TEMP) >= self.high_temp and l.STATION in stations]\n",
    "        return len(filtered_rows)\n",
    "\n",
    "    def load_data(self):\n",
    "        print(f\"{datetime.now()} loading data of {self.year}\")\n",
    "        file_name = self.year + '.tar.gz'\n",
    "        row = namedtuple('Row', ('STATION', 'DATE', 'LATITUDE', 'LONGITUDE', 'ELEVATION', 'NAME', 'TEMP', 'TEMP_ATTRIBUTES', 'DEWP',\n",
    "                                 'DEWP_ATTRIBUTES', 'SLP', 'SLP_ATTRIBUTES', 'STP', 'STP_ATTRIBUTES', 'VISIB', 'VISIB_ATTRIBUTES',\n",
    "                                 'WDSP', 'WDSP_ATTRIBUTES', 'MXSPD', \n",
    "                                 'GUST', 'MAX', 'MAX_ATTRIBUTES', 'MIN', 'MIN_ATTRIBUTES', 'PRCP',\n",
    "                                 'PRCP_ATTRIBUTES', 'SNDP', 'FRSHTT'))\n",
    "\n",
    "        tar = tarfile.open(file_name, 'r:gz')\n",
    "        for member in tar.getmembers():\n",
    "            member_handle = tar.extractfile(member)\n",
    "            byte_data = member_handle.read()\n",
    "            decoded_string = byte_data.decode()\n",
    "            lines = decoded_string.splitlines()\n",
    "            reader = csv.reader(lines, delimiter=',')\n",
    "\n",
    "            # Get all the rows in the member. Skip the header.\n",
    "            _ = next(reader)\n",
    "            file_rows = [row(*l) for l in reader]\n",
    "            self.rows += file_rows\n",
    "\n",
    "        self.stations = {l.STATION for l in self.rows}\n",
    "        print(f\"{datetime.now()} loaded data of {self.year}\")"
   ]
  },
  {
   "cell_type": "code",
   "execution_count": 2,
   "metadata": {},
   "outputs": [],
   "source": [
    "# Code assumes you have the 1980.tar.gz and 2020.tar.gz files in your current working directory.\n",
    "def compare_years(year1, year2, high_temp, threshold_year1=0, threshold_year2=0):\n",
    "\n",
    "    # if you know that you need fewer than the default number of workers,\n",
    "    # you can modify the num_cpus parameter\n",
    "    ray.init(num_cpus=2)\n",
    "\n",
    "    # Create actor processes\n",
    "    gsod_y1 = GSODActor.remote(year1, high_temp)\n",
    "    gsod_y2 = GSODActor.remote(year2, high_temp)\n",
    "\n",
    "    ray.get([gsod_y1.load_data.remote(), gsod_y2.load_data.remote()])\n",
    "\n",
    "    y1_stations, y2_stations = ray.get([gsod_y1.get_stations.remote(),\n",
    "               \t                    gsod_y2.get_stations.remote()])\n",
    "\n",
    "    intersection = set.intersection(y1_stations, y2_stations)\n",
    "\n",
    "    # y1_count, y2_count = ray.get([gsod_y1.get_high_temp_count.remote(intersection),\n",
    "    #                               gsod_y2.get_high_temp_count.remote(intersection)])\n",
    "\n",
    "    print('Number of stations in common: {}'.format(len(intersection)))\n",
    "    # print('{} - High temp count for common stations: {}'.format(year1, y1_count))\n",
    "    # print('{} - High temp count for common stations: {}'.format(year2, y2_count))\n",
    "\n",
    "    # control flow\n",
    "    if len(intersection) > threshold_year1:\n",
    "        y1_count = ray.get(gsod_y1.get_high_temp_count.remote(intersection))\n",
    "        print('{} - High temp count for common stations: {}'.format(year1, y1_count))\n",
    "    elif len(intersection) > threshold_year2:\n",
    "        y2_count = ray.get(gsod_y2.get_high_temp_count.remote(intersection))\n",
    "        print('{} - High temp count for common stations: {}'.format(year2, y2_count))\n",
    "    else:\n",
    "        cnt = ray.get(gsod_y1.get_station_count.remote())\n",
    "        print(f\"else condition output {cnt}.\")\n",
    "\n",
    "#Running the code below will output which year had more extreme temperatures\n",
    "# compare_years('1980', '2020', 100)"
   ]
  },
  {
   "cell_type": "code",
   "execution_count": 3,
   "metadata": {},
   "outputs": [
    {
     "name": "stderr",
     "output_type": "stream",
     "text": [
      "2022-04-18 07:04:07,370\tINFO services.py:1412 -- View the Ray dashboard at \u001b[1m\u001b[32mhttp://127.0.0.1:8265\u001b[39m\u001b[22m\n"
     ]
    },
    {
     "name": "stdout",
     "output_type": "stream",
     "text": [
      " pid=18412)\u001b[0m 2022-04-18 07:04:11.066428 loading data of 1980\n",
      " pid=10036)\u001b[0m 2022-04-18 07:04:11.065427 loading data of 2020\n",
      " pid=18412)\u001b[0m 2022-04-18 07:04:36.833663 loaded data of 1980\n",
      " pid=10036)\u001b[0m 2022-04-18 07:05:02.598428 loaded data of 2020\n",
      " pid=18412)\u001b[0m 2022-04-18 07:05:02.607404 get stations\n",
      " pid=10036)\u001b[0m 2022-04-18 07:05:02.607404 get stations\n",
      "Number of stations in common: 4844\n",
      " pid=18412)\u001b[0m 2022-04-18 07:05:02.628405 get high temp count\n",
      "1980 - High temp count for common stations: 0\n"
     ]
    }
   ],
   "source": [
    "# if\n",
    "compare_years('1980', '2020', 1000)"
   ]
  },
  {
   "cell_type": "code",
   "execution_count": 6,
   "metadata": {},
   "outputs": [
    {
     "name": "stderr",
     "output_type": "stream",
     "text": [
      "2022-04-18 07:22:09,243\tINFO services.py:1412 -- View the Ray dashboard at \u001b[1m\u001b[32mhttp://127.0.0.1:8265\u001b[39m\u001b[22m\n"
     ]
    },
    {
     "name": "stdout",
     "output_type": "stream",
     "text": [
      " pid=34780)\u001b[0m 2022-04-18 07:22:12.438352 loading data of 2020\n",
      " pid=33128)\u001b[0m 2022-04-18 07:22:12.433352 loading data of 1980\n",
      " pid=33128)\u001b[0m 2022-04-18 07:22:36.877323 loaded data of 1980\n",
      " pid=34780)\u001b[0m 2022-04-18 07:23:04.112843 loaded data of 2020\n",
      "Number of stations in common: 4844\n",
      " pid=34780)\u001b[0m 2022-04-18 07:23:04.120844 get stations\n",
      " pid=34780)\u001b[0m 2022-04-18 07:23:04.138842 get high temp count\n",
      " pid=33128)\u001b[0m 2022-04-18 07:23:04.120844 get stations\n",
      "2020 - High temp count for common stations: 0\n"
     ]
    }
   ],
   "source": [
    "# elif\n",
    "compare_years('1980', '2020', 1000, 5000)"
   ]
  },
  {
   "cell_type": "code",
   "execution_count": 8,
   "metadata": {},
   "outputs": [
    {
     "name": "stderr",
     "output_type": "stream",
     "text": [
      "2022-04-18 07:24:01,506\tINFO services.py:1412 -- View the Ray dashboard at \u001b[1m\u001b[32mhttp://127.0.0.1:8265\u001b[39m\u001b[22m\n"
     ]
    },
    {
     "name": "stdout",
     "output_type": "stream",
     "text": [
      " pid=32380)\u001b[0m 2022-04-18 07:24:04.556470 loading data of 1980\n",
      " pid=44592)\u001b[0m 2022-04-18 07:24:04.557469 loading data of 2020\n",
      " pid=32380)\u001b[0m 2022-04-18 07:24:29.246193 loaded data of 1980\n",
      "Number of stations in common: 4844\n",
      "else condition output 8512.\n",
      " pid=32380)\u001b[0m 2022-04-18 07:24:54.831127 get stations\n",
      " pid=32380)\u001b[0m 2022-04-18 07:24:54.844105 get station count\n",
      " pid=44592)\u001b[0m 2022-04-18 07:24:54.826105 loaded data of 2020\n",
      " pid=44592)\u001b[0m 2022-04-18 07:24:54.831127 get stations\n"
     ]
    },
    {
     "name": "stderr",
     "output_type": "stream",
     "text": [
      "2022-04-18 10:08:42,632\tWARNING worker.py:1326 -- The node with node id: 264b1e321a447f56a2625b5582a0c2723dab51d736a55f909e03dfa5 and ip: 127.0.0.1 has been marked dead because the detector has missed too many heartbeats from it. This can happen when a raylet crashes unexpectedly or has lagging heartbeats.\n",
      "\u001b[2m\u001b[36m(pid=)\u001b[0m [2022-04-18 10:09:41,464 C 19600 9628] (raylet.exe) node_manager.cc:172: This node has beem marked as dead.\n",
      "\u001b[2m\u001b[36m(pid=)\u001b[0m *** StackTrace Information ***\n",
      "\u001b[2m\u001b[36m(pid=)\u001b[0m     BaseThreadInitThunk\n",
      "\u001b[2m\u001b[36m(pid=)\u001b[0m     RtlUserThreadStart\n",
      "\u001b[2m\u001b[36m(pid=)\u001b[0m \n"
     ]
    }
   ],
   "source": [
    "# else\n",
    "compare_years('1980', '2020', 1000, 5000, 5000)"
   ]
  },
  {
   "cell_type": "code",
   "execution_count": 7,
   "metadata": {},
   "outputs": [],
   "source": [
    "ray.shutdown()"
   ]
  },
  {
   "cell_type": "code",
   "execution_count": null,
   "metadata": {},
   "outputs": [],
   "source": []
  }
 ],
 "metadata": {
  "interpreter": {
   "hash": "a7667d218aaa7051c2d790bd937e4b293c5605d706dae21caeafac1e63d37400"
  },
  "kernelspec": {
   "display_name": "Python 3.8.13 ('anyscale-academy')",
   "language": "python",
   "name": "python3"
  },
  "language_info": {
   "codemirror_mode": {
    "name": "ipython",
    "version": 3
   },
   "file_extension": ".py",
   "mimetype": "text/x-python",
   "name": "python",
   "nbconvert_exporter": "python",
   "pygments_lexer": "ipython3",
   "version": "3.8.13"
  },
  "orig_nbformat": 4
 },
 "nbformat": 4,
 "nbformat_minor": 2
}
