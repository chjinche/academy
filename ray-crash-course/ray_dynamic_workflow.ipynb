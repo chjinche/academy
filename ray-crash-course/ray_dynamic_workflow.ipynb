{
 "cells": [
  {
   "cell_type": "markdown",
   "metadata": {},
   "source": [
    "Issue: https://github.com/ray-project/ray/issues/20797\n",
    "\n",
    "Error: \"RuntimeError: This event loop is already running\"\n",
    "\n",
    "Have not been solved by 04/21/2022"
   ]
  },
  {
   "cell_type": "code",
   "execution_count": 8,
   "metadata": {},
   "outputs": [
    {
     "name": "stderr",
     "output_type": "stream",
     "text": [
      "2022-04-21 09:30:44,498\tINFO api.py:52 -- Using storage: file:///tmp/ray/workflow_data\n",
      "2022-04-21 09:30:44,501\tWARNING api.py:65 -- Calling 'workflow.init()' again with the same storage.\n",
      "2022-04-21 09:30:44,515\tINFO execution.py:49 -- Workflow job created. [id=\"1b109fd6-820e-4206-bb38-bebcce293038.1650533444.513731480\", storage_url=\"file://d:\\tmp\\ray\\workflow_data\"]. Type: FUNCTION.\n"
     ]
    },
    {
     "ename": "RuntimeError",
     "evalue": "This event loop is already running",
     "output_type": "error",
     "traceback": [
      "\u001b[1;31m---------------------------------------------------------------------------\u001b[0m",
      "\u001b[1;31mRuntimeError\u001b[0m                              Traceback (most recent call last)",
      "\u001b[1;32md:\\Projects\\academy\\ray-crash-course\\ray_dynamic_workflow.ipynb Cell 2'\u001b[0m in \u001b[0;36m<cell line: 14>\u001b[1;34m()\u001b[0m\n\u001b[0;32m     <a href='vscode-notebook-cell:/d%3A/Projects/academy/ray-crash-course/ray_dynamic_workflow.ipynb#ch0000000?line=10'>11</a>\u001b[0m     \u001b[39mreturn\u001b[39;00m add\u001b[39m.\u001b[39mstep(fib\u001b[39m.\u001b[39mstep(n \u001b[39m-\u001b[39m \u001b[39m1\u001b[39m), fib\u001b[39m.\u001b[39mstep(n \u001b[39m-\u001b[39m \u001b[39m2\u001b[39m))\n\u001b[0;32m     <a href='vscode-notebook-cell:/d%3A/Projects/academy/ray-crash-course/ray_dynamic_workflow.ipynb#ch0000000?line=12'>13</a>\u001b[0m workflow\u001b[39m.\u001b[39minit()\n\u001b[1;32m---> <a href='vscode-notebook-cell:/d%3A/Projects/academy/ray-crash-course/ray_dynamic_workflow.ipynb#ch0000000?line=13'>14</a>\u001b[0m \u001b[39massert\u001b[39;00m fib\u001b[39m.\u001b[39;49mstep(\u001b[39m10\u001b[39;49m)\u001b[39m.\u001b[39;49mrun() \u001b[39m==\u001b[39m \u001b[39m55\u001b[39m\n",
      "File \u001b[1;32m~\\Anaconda3\\envs\\anyscale-academy\\lib\\site-packages\\ray\\workflow\\common.py:446\u001b[0m, in \u001b[0;36mWorkflow.run\u001b[1;34m(self, workflow_id, metadata)\u001b[0m\n\u001b[0;32m    <a href='file:///c%3A/Users/chjinche/Anaconda3/envs/anyscale-academy/lib/site-packages/ray/workflow/common.py?line=409'>410</a>\u001b[0m \u001b[39m@PublicAPI\u001b[39m(stability\u001b[39m=\u001b[39m\u001b[39m\"\u001b[39m\u001b[39mbeta\u001b[39m\u001b[39m\"\u001b[39m)\n\u001b[0;32m    <a href='file:///c%3A/Users/chjinche/Anaconda3/envs/anyscale-academy/lib/site-packages/ray/workflow/common.py?line=410'>411</a>\u001b[0m \u001b[39mdef\u001b[39;00m \u001b[39mrun\u001b[39m(\u001b[39mself\u001b[39m,\n\u001b[0;32m    <a href='file:///c%3A/Users/chjinche/Anaconda3/envs/anyscale-academy/lib/site-packages/ray/workflow/common.py?line=411'>412</a>\u001b[0m         workflow_id: Optional[\u001b[39mstr\u001b[39m] \u001b[39m=\u001b[39m \u001b[39mNone\u001b[39;00m,\n\u001b[0;32m    <a href='file:///c%3A/Users/chjinche/Anaconda3/envs/anyscale-academy/lib/site-packages/ray/workflow/common.py?line=412'>413</a>\u001b[0m         metadata: Optional[Dict[\u001b[39mstr\u001b[39m, Any]] \u001b[39m=\u001b[39m \u001b[39mNone\u001b[39;00m) \u001b[39m-\u001b[39m\u001b[39m>\u001b[39m Any:\n\u001b[0;32m    <a href='file:///c%3A/Users/chjinche/Anaconda3/envs/anyscale-academy/lib/site-packages/ray/workflow/common.py?line=413'>414</a>\u001b[0m     \u001b[39m\"\"\"Run a workflow.\u001b[39;00m\n\u001b[0;32m    <a href='file:///c%3A/Users/chjinche/Anaconda3/envs/anyscale-academy/lib/site-packages/ray/workflow/common.py?line=414'>415</a>\u001b[0m \n\u001b[0;32m    <a href='file:///c%3A/Users/chjinche/Anaconda3/envs/anyscale-academy/lib/site-packages/ray/workflow/common.py?line=415'>416</a>\u001b[0m \u001b[39m    If the workflow with the given id already exists, it will be resumed.\u001b[39;00m\n\u001b[1;32m   (...)\u001b[0m\n\u001b[0;32m    <a href='file:///c%3A/Users/chjinche/Anaconda3/envs/anyscale-academy/lib/site-packages/ray/workflow/common.py?line=443'>444</a>\u001b[0m \u001b[39m        The running result.\u001b[39;00m\n\u001b[0;32m    <a href='file:///c%3A/Users/chjinche/Anaconda3/envs/anyscale-academy/lib/site-packages/ray/workflow/common.py?line=444'>445</a>\u001b[0m \u001b[39m    \"\"\"\u001b[39;00m\n\u001b[1;32m--> <a href='file:///c%3A/Users/chjinche/Anaconda3/envs/anyscale-academy/lib/site-packages/ray/workflow/common.py?line=445'>446</a>\u001b[0m     \u001b[39mreturn\u001b[39;00m ray\u001b[39m.\u001b[39mget(\u001b[39mself\u001b[39;49m\u001b[39m.\u001b[39;49mrun_async(workflow_id, metadata))\n",
      "File \u001b[1;32m~\\Anaconda3\\envs\\anyscale-academy\\lib\\site-packages\\ray\\workflow\\common.py:488\u001b[0m, in \u001b[0;36mWorkflow.run_async\u001b[1;34m(self, workflow_id, metadata)\u001b[0m\n\u001b[0;32m    <a href='file:///c%3A/Users/chjinche/Anaconda3/envs/anyscale-academy/lib/site-packages/ray/workflow/common.py?line=485'>486</a>\u001b[0m \u001b[39mfrom\u001b[39;00m \u001b[39mray\u001b[39;00m\u001b[39m.\u001b[39;00m\u001b[39mworkflow\u001b[39;00m\u001b[39m.\u001b[39;00m\u001b[39mexecution\u001b[39;00m \u001b[39mimport\u001b[39;00m run\n\u001b[0;32m    <a href='file:///c%3A/Users/chjinche/Anaconda3/envs/anyscale-academy/lib/site-packages/ray/workflow/common.py?line=486'>487</a>\u001b[0m \u001b[39mself\u001b[39m\u001b[39m.\u001b[39m_step_id \u001b[39m=\u001b[39m \u001b[39mNone\u001b[39;00m\n\u001b[1;32m--> <a href='file:///c%3A/Users/chjinche/Anaconda3/envs/anyscale-academy/lib/site-packages/ray/workflow/common.py?line=487'>488</a>\u001b[0m \u001b[39mreturn\u001b[39;00m run(\u001b[39mself\u001b[39;49m, workflow_id, metadata)\n",
      "File \u001b[1;32m~\\Anaconda3\\envs\\anyscale-academy\\lib\\site-packages\\ray\\workflow\\execution.py:56\u001b[0m, in \u001b[0;36mrun\u001b[1;34m(entry_workflow, workflow_id, metadata)\u001b[0m\n\u001b[0;32m     <a href='file:///c%3A/Users/chjinche/Anaconda3/envs/anyscale-academy/lib/site-packages/ray/workflow/execution.py?line=51'>52</a>\u001b[0m \u001b[39mwith\u001b[39;00m workflow_context\u001b[39m.\u001b[39mworkflow_step_context(workflow_id,\n\u001b[0;32m     <a href='file:///c%3A/Users/chjinche/Anaconda3/envs/anyscale-academy/lib/site-packages/ray/workflow/execution.py?line=52'>53</a>\u001b[0m                                             store\u001b[39m.\u001b[39mstorage_url):\n\u001b[0;32m     <a href='file:///c%3A/Users/chjinche/Anaconda3/envs/anyscale-academy/lib/site-packages/ray/workflow/execution.py?line=53'>54</a>\u001b[0m     \u001b[39m# checkpoint the workflow\u001b[39;00m\n\u001b[0;32m     <a href='file:///c%3A/Users/chjinche/Anaconda3/envs/anyscale-academy/lib/site-packages/ray/workflow/execution.py?line=54'>55</a>\u001b[0m     ws \u001b[39m=\u001b[39m workflow_storage\u001b[39m.\u001b[39mget_workflow_storage(workflow_id)\n\u001b[1;32m---> <a href='file:///c%3A/Users/chjinche/Anaconda3/envs/anyscale-academy/lib/site-packages/ray/workflow/execution.py?line=55'>56</a>\u001b[0m     ws\u001b[39m.\u001b[39;49msave_workflow_user_metadata(metadata)\n\u001b[0;32m     <a href='file:///c%3A/Users/chjinche/Anaconda3/envs/anyscale-academy/lib/site-packages/ray/workflow/execution.py?line=57'>58</a>\u001b[0m     wf_exists \u001b[39m=\u001b[39m \u001b[39mTrue\u001b[39;00m\n\u001b[0;32m     <a href='file:///c%3A/Users/chjinche/Anaconda3/envs/anyscale-academy/lib/site-packages/ray/workflow/execution.py?line=58'>59</a>\u001b[0m     \u001b[39mtry\u001b[39;00m:\n",
      "File \u001b[1;32m~\\Anaconda3\\envs\\anyscale-academy\\lib\\site-packages\\ray\\workflow\\workflow_storage.py:422\u001b[0m, in \u001b[0;36mWorkflowStorage.save_workflow_user_metadata\u001b[1;34m(self, metadata)\u001b[0m\n\u001b[0;32m    <a href='file:///c%3A/Users/chjinche/Anaconda3/envs/anyscale-academy/lib/site-packages/ray/workflow/workflow_storage.py?line=411'>412</a>\u001b[0m \u001b[39mdef\u001b[39;00m \u001b[39msave_workflow_user_metadata\u001b[39m(\u001b[39mself\u001b[39m, metadata: Dict[\u001b[39mstr\u001b[39m, Any]):\n\u001b[0;32m    <a href='file:///c%3A/Users/chjinche/Anaconda3/envs/anyscale-academy/lib/site-packages/ray/workflow/workflow_storage.py?line=412'>413</a>\u001b[0m     \u001b[39m\"\"\"Save user metadata of the current workflow.\u001b[39;00m\n\u001b[0;32m    <a href='file:///c%3A/Users/chjinche/Anaconda3/envs/anyscale-academy/lib/site-packages/ray/workflow/workflow_storage.py?line=413'>414</a>\u001b[0m \n\u001b[0;32m    <a href='file:///c%3A/Users/chjinche/Anaconda3/envs/anyscale-academy/lib/site-packages/ray/workflow/workflow_storage.py?line=414'>415</a>\u001b[0m \u001b[39m    Args:\u001b[39;00m\n\u001b[1;32m   (...)\u001b[0m\n\u001b[0;32m    <a href='file:///c%3A/Users/chjinche/Anaconda3/envs/anyscale-academy/lib/site-packages/ray/workflow/workflow_storage.py?line=418'>419</a>\u001b[0m \u001b[39m        DataSaveError: if we fail to save the user metadata.\u001b[39;00m\n\u001b[0;32m    <a href='file:///c%3A/Users/chjinche/Anaconda3/envs/anyscale-academy/lib/site-packages/ray/workflow/workflow_storage.py?line=419'>420</a>\u001b[0m \u001b[39m    \"\"\"\u001b[39;00m\n\u001b[1;32m--> <a href='file:///c%3A/Users/chjinche/Anaconda3/envs/anyscale-academy/lib/site-packages/ray/workflow/workflow_storage.py?line=421'>422</a>\u001b[0m     asyncio_run(\n\u001b[0;32m    <a href='file:///c%3A/Users/chjinche/Anaconda3/envs/anyscale-academy/lib/site-packages/ray/workflow/workflow_storage.py?line=422'>423</a>\u001b[0m         \u001b[39mself\u001b[39;49m\u001b[39m.\u001b[39;49m_put(\u001b[39mself\u001b[39;49m\u001b[39m.\u001b[39;49m_key_workflow_user_metadata(), metadata, \u001b[39mTrue\u001b[39;49;00m))\n",
      "File \u001b[1;32m~\\Anaconda3\\envs\\anyscale-academy\\lib\\site-packages\\ray\\workflow\\workflow_storage.py:56\u001b[0m, in \u001b[0;36masyncio_run\u001b[1;34m(coro)\u001b[0m\n\u001b[0;32m     <a href='file:///c%3A/Users/chjinche/Anaconda3/envs/anyscale-academy/lib/site-packages/ray/workflow/workflow_storage.py?line=53'>54</a>\u001b[0m \u001b[39mdef\u001b[39;00m \u001b[39masyncio_run\u001b[39m(coro):\n\u001b[0;32m     <a href='file:///c%3A/Users/chjinche/Anaconda3/envs/anyscale-academy/lib/site-packages/ray/workflow/workflow_storage.py?line=54'>55</a>\u001b[0m     loop \u001b[39m=\u001b[39m asyncio\u001b[39m.\u001b[39mget_event_loop()\n\u001b[1;32m---> <a href='file:///c%3A/Users/chjinche/Anaconda3/envs/anyscale-academy/lib/site-packages/ray/workflow/workflow_storage.py?line=55'>56</a>\u001b[0m     \u001b[39mreturn\u001b[39;00m loop\u001b[39m.\u001b[39;49mrun_until_complete(coro)\n",
      "File \u001b[1;32m~\\Anaconda3\\envs\\anyscale-academy\\lib\\asyncio\\base_events.py:592\u001b[0m, in \u001b[0;36mBaseEventLoop.run_until_complete\u001b[1;34m(self, future)\u001b[0m\n\u001b[0;32m    <a href='file:///c%3A/Users/chjinche/Anaconda3/envs/anyscale-academy/lib/asyncio/base_events.py?line=580'>581</a>\u001b[0m \u001b[39m\"\"\"Run until the Future is done.\u001b[39;00m\n\u001b[0;32m    <a href='file:///c%3A/Users/chjinche/Anaconda3/envs/anyscale-academy/lib/asyncio/base_events.py?line=581'>582</a>\u001b[0m \n\u001b[0;32m    <a href='file:///c%3A/Users/chjinche/Anaconda3/envs/anyscale-academy/lib/asyncio/base_events.py?line=582'>583</a>\u001b[0m \u001b[39mIf the argument is a coroutine, it is wrapped in a Task.\u001b[39;00m\n\u001b[1;32m   (...)\u001b[0m\n\u001b[0;32m    <a href='file:///c%3A/Users/chjinche/Anaconda3/envs/anyscale-academy/lib/asyncio/base_events.py?line=588'>589</a>\u001b[0m \u001b[39mReturn the Future's result, or raise its exception.\u001b[39;00m\n\u001b[0;32m    <a href='file:///c%3A/Users/chjinche/Anaconda3/envs/anyscale-academy/lib/asyncio/base_events.py?line=589'>590</a>\u001b[0m \u001b[39m\"\"\"\u001b[39;00m\n\u001b[0;32m    <a href='file:///c%3A/Users/chjinche/Anaconda3/envs/anyscale-academy/lib/asyncio/base_events.py?line=590'>591</a>\u001b[0m \u001b[39mself\u001b[39m\u001b[39m.\u001b[39m_check_closed()\n\u001b[1;32m--> <a href='file:///c%3A/Users/chjinche/Anaconda3/envs/anyscale-academy/lib/asyncio/base_events.py?line=591'>592</a>\u001b[0m \u001b[39mself\u001b[39;49m\u001b[39m.\u001b[39;49m_check_running()\n\u001b[0;32m    <a href='file:///c%3A/Users/chjinche/Anaconda3/envs/anyscale-academy/lib/asyncio/base_events.py?line=593'>594</a>\u001b[0m new_task \u001b[39m=\u001b[39m \u001b[39mnot\u001b[39;00m futures\u001b[39m.\u001b[39misfuture(future)\n\u001b[0;32m    <a href='file:///c%3A/Users/chjinche/Anaconda3/envs/anyscale-academy/lib/asyncio/base_events.py?line=594'>595</a>\u001b[0m future \u001b[39m=\u001b[39m tasks\u001b[39m.\u001b[39mensure_future(future, loop\u001b[39m=\u001b[39m\u001b[39mself\u001b[39m)\n",
      "File \u001b[1;32m~\\Anaconda3\\envs\\anyscale-academy\\lib\\asyncio\\base_events.py:552\u001b[0m, in \u001b[0;36mBaseEventLoop._check_running\u001b[1;34m(self)\u001b[0m\n\u001b[0;32m    <a href='file:///c%3A/Users/chjinche/Anaconda3/envs/anyscale-academy/lib/asyncio/base_events.py?line=549'>550</a>\u001b[0m \u001b[39mdef\u001b[39;00m \u001b[39m_check_running\u001b[39m(\u001b[39mself\u001b[39m):\n\u001b[0;32m    <a href='file:///c%3A/Users/chjinche/Anaconda3/envs/anyscale-academy/lib/asyncio/base_events.py?line=550'>551</a>\u001b[0m     \u001b[39mif\u001b[39;00m \u001b[39mself\u001b[39m\u001b[39m.\u001b[39mis_running():\n\u001b[1;32m--> <a href='file:///c%3A/Users/chjinche/Anaconda3/envs/anyscale-academy/lib/asyncio/base_events.py?line=551'>552</a>\u001b[0m         \u001b[39mraise\u001b[39;00m \u001b[39mRuntimeError\u001b[39;00m(\u001b[39m'\u001b[39m\u001b[39mThis event loop is already running\u001b[39m\u001b[39m'\u001b[39m)\n\u001b[0;32m    <a href='file:///c%3A/Users/chjinche/Anaconda3/envs/anyscale-academy/lib/asyncio/base_events.py?line=552'>553</a>\u001b[0m     \u001b[39mif\u001b[39;00m events\u001b[39m.\u001b[39m_get_running_loop() \u001b[39mis\u001b[39;00m \u001b[39mnot\u001b[39;00m \u001b[39mNone\u001b[39;00m:\n\u001b[0;32m    <a href='file:///c%3A/Users/chjinche/Anaconda3/envs/anyscale-academy/lib/asyncio/base_events.py?line=553'>554</a>\u001b[0m         \u001b[39mraise\u001b[39;00m \u001b[39mRuntimeError\u001b[39;00m(\n\u001b[0;32m    <a href='file:///c%3A/Users/chjinche/Anaconda3/envs/anyscale-academy/lib/asyncio/base_events.py?line=554'>555</a>\u001b[0m             \u001b[39m'\u001b[39m\u001b[39mCannot run the event loop while another loop is running\u001b[39m\u001b[39m'\u001b[39m)\n",
      "\u001b[1;31mRuntimeError\u001b[0m: This event loop is already running"
     ]
    },
    {
     "name": "stderr",
     "output_type": "stream",
     "text": [
      "sys:1: RuntimeWarning: coroutine 'WorkflowStorage._put' was never awaited\n",
      "RuntimeWarning: Enable tracemalloc to get the object allocation traceback\n"
     ]
    }
   ],
   "source": [
    "from ray import workflow\n",
    "\n",
    "@workflow.step\n",
    "def add(a: int, b: int) -> int:\n",
    "    return a + b\n",
    "\n",
    "@workflow.step\n",
    "def fib(n: int) -> int:\n",
    "    if n <= 1:\n",
    "        return n\n",
    "    return add.step(fib.step(n - 1), fib.step(n - 2))\n",
    "\n",
    "workflow.init()\n",
    "assert fib.step(10).run() == 55"
   ]
  },
  {
   "cell_type": "code",
   "execution_count": 6,
   "metadata": {},
   "outputs": [],
   "source": [
    "import ray\n",
    "ray.shutdown()"
   ]
  },
  {
   "cell_type": "code",
   "execution_count": null,
   "metadata": {},
   "outputs": [],
   "source": []
  }
 ],
 "metadata": {
  "interpreter": {
   "hash": "a7667d218aaa7051c2d790bd937e4b293c5605d706dae21caeafac1e63d37400"
  },
  "kernelspec": {
   "display_name": "Python 3.8.13 ('anyscale-academy')",
   "language": "python",
   "name": "python3"
  },
  "language_info": {
   "codemirror_mode": {
    "name": "ipython",
    "version": 3
   },
   "file_extension": ".py",
   "mimetype": "text/x-python",
   "name": "python",
   "nbconvert_exporter": "python",
   "pygments_lexer": "ipython3",
   "version": "3.8.13"
  },
  "orig_nbformat": 4
 },
 "nbformat": 4,
 "nbformat_minor": 2
}
